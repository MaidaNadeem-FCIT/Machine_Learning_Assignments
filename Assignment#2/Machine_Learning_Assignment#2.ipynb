{
 "cells": [
  {
   "cell_type": "markdown",
   "id": "a7d66043",
   "metadata": {},
   "source": [
    "## Machine Learning                              Assignment # 2\n",
    "### MSDSF22M001                                               Maida Nadeem Butt\n",
    "---"
   ]
  },
  {
   "cell_type": "markdown",
   "id": "5f3a9679",
   "metadata": {},
   "source": [
    "### Training Of The Pre-Processed Data Set....\n",
    "#### Loading Pre-processed Dataset\n",
    "---"
   ]
  },
  {
   "cell_type": "code",
   "execution_count": 1,
   "id": "914f9b6e",
   "metadata": {},
   "outputs": [],
   "source": [
    "import pandas as pd\n",
    "import numpy as np\n",
    "from matplotlib import pyplot as plt\n",
    "import seaborn as sns"
   ]
  },
  {
   "cell_type": "code",
   "execution_count": 2,
   "id": "1e6d71f6",
   "metadata": {},
   "outputs": [
    {
     "data": {
      "text/html": [
       "<div>\n",
       "<style scoped>\n",
       "    .dataframe tbody tr th:only-of-type {\n",
       "        vertical-align: middle;\n",
       "    }\n",
       "\n",
       "    .dataframe tbody tr th {\n",
       "        vertical-align: top;\n",
       "    }\n",
       "\n",
       "    .dataframe thead th {\n",
       "        text-align: right;\n",
       "    }\n",
       "</style>\n",
       "<table border=\"1\" class=\"dataframe\">\n",
       "  <thead>\n",
       "    <tr style=\"text-align: right;\">\n",
       "      <th></th>\n",
       "      <th>gender</th>\n",
       "      <th>ssc_percentage</th>\n",
       "      <th>ssc_board</th>\n",
       "      <th>hsc_percentage</th>\n",
       "      <th>hsc_board</th>\n",
       "      <th>hsc_subject</th>\n",
       "      <th>degree_percentage</th>\n",
       "      <th>undergrad_degree</th>\n",
       "      <th>work_experience</th>\n",
       "      <th>emp_test_percentage</th>\n",
       "      <th>specialisation</th>\n",
       "      <th>mba_percent</th>\n",
       "      <th>status</th>\n",
       "    </tr>\n",
       "  </thead>\n",
       "  <tbody>\n",
       "    <tr>\n",
       "      <th>0</th>\n",
       "      <td>1</td>\n",
       "      <td>67.00</td>\n",
       "      <td>O</td>\n",
       "      <td>91.00</td>\n",
       "      <td>O</td>\n",
       "      <td>Commerce</td>\n",
       "      <td>58.00</td>\n",
       "      <td>Sci&amp;Tech</td>\n",
       "      <td>No</td>\n",
       "      <td>55.0</td>\n",
       "      <td>Mkt&amp;HR</td>\n",
       "      <td>58.80</td>\n",
       "      <td>Placed</td>\n",
       "    </tr>\n",
       "    <tr>\n",
       "      <th>1</th>\n",
       "      <td>1</td>\n",
       "      <td>79.33</td>\n",
       "      <td>C</td>\n",
       "      <td>78.33</td>\n",
       "      <td>O</td>\n",
       "      <td>Science</td>\n",
       "      <td>77.48</td>\n",
       "      <td>Sci&amp;Tech</td>\n",
       "      <td>Yes</td>\n",
       "      <td>86.5</td>\n",
       "      <td>Mkt&amp;Fin</td>\n",
       "      <td>66.28</td>\n",
       "      <td>Placed</td>\n",
       "    </tr>\n",
       "    <tr>\n",
       "      <th>2</th>\n",
       "      <td>1</td>\n",
       "      <td>65.00</td>\n",
       "      <td>C</td>\n",
       "      <td>68.00</td>\n",
       "      <td>C</td>\n",
       "      <td>Arts</td>\n",
       "      <td>64.00</td>\n",
       "      <td>Comm&amp;Mgmt</td>\n",
       "      <td>No</td>\n",
       "      <td>75.0</td>\n",
       "      <td>Mkt&amp;Fin</td>\n",
       "      <td>57.80</td>\n",
       "      <td>Placed</td>\n",
       "    </tr>\n",
       "    <tr>\n",
       "      <th>3</th>\n",
       "      <td>1</td>\n",
       "      <td>56.00</td>\n",
       "      <td>C</td>\n",
       "      <td>52.00</td>\n",
       "      <td>C</td>\n",
       "      <td>Science</td>\n",
       "      <td>52.00</td>\n",
       "      <td>Sci&amp;Tech</td>\n",
       "      <td>No</td>\n",
       "      <td>66.0</td>\n",
       "      <td>Mkt&amp;HR</td>\n",
       "      <td>59.43</td>\n",
       "      <td>Not Placed</td>\n",
       "    </tr>\n",
       "    <tr>\n",
       "      <th>4</th>\n",
       "      <td>1</td>\n",
       "      <td>85.80</td>\n",
       "      <td>C</td>\n",
       "      <td>73.60</td>\n",
       "      <td>C</td>\n",
       "      <td>Commerce</td>\n",
       "      <td>73.30</td>\n",
       "      <td>Comm&amp;Mgmt</td>\n",
       "      <td>No</td>\n",
       "      <td>96.8</td>\n",
       "      <td>Mkt&amp;Fin</td>\n",
       "      <td>55.50</td>\n",
       "      <td>Placed</td>\n",
       "    </tr>\n",
       "  </tbody>\n",
       "</table>\n",
       "</div>"
      ],
      "text/plain": [
       "   gender  ssc_percentage ssc_board  hsc_percentage hsc_board hsc_subject  \\\n",
       "0       1           67.00         O           91.00         O    Commerce   \n",
       "1       1           79.33         C           78.33         O     Science   \n",
       "2       1           65.00         C           68.00         C        Arts   \n",
       "3       1           56.00         C           52.00         C     Science   \n",
       "4       1           85.80         C           73.60         C    Commerce   \n",
       "\n",
       "   degree_percentage undergrad_degree work_experience  emp_test_percentage  \\\n",
       "0              58.00         Sci&Tech              No                 55.0   \n",
       "1              77.48         Sci&Tech             Yes                 86.5   \n",
       "2              64.00        Comm&Mgmt              No                 75.0   \n",
       "3              52.00         Sci&Tech              No                 66.0   \n",
       "4              73.30        Comm&Mgmt              No                 96.8   \n",
       "\n",
       "  specialisation  mba_percent      status  \n",
       "0         Mkt&HR        58.80      Placed  \n",
       "1        Mkt&Fin        66.28      Placed  \n",
       "2        Mkt&Fin        57.80      Placed  \n",
       "3         Mkt&HR        59.43  Not Placed  \n",
       "4        Mkt&Fin        55.50      Placed  "
      ]
     },
     "execution_count": 2,
     "metadata": {},
     "output_type": "execute_result"
    }
   ],
   "source": [
    "df=pd.read_csv(\"datasets/ML_Processed_Data.csv\")\n",
    "df.head()"
   ]
  },
  {
   "cell_type": "markdown",
   "id": "1901d2f8",
   "metadata": {},
   "source": [
    "### Developing Model....\n",
    "#### 1. Label Encoding\n",
    "As, the dataset used here is categorical so firstly we need to transform it into numeric variables."
   ]
  },
  {
   "cell_type": "code",
   "execution_count": 3,
   "id": "dfc5caa3",
   "metadata": {},
   "outputs": [],
   "source": [
    "from sklearn.preprocessing import LabelEncoder\n",
    "\n",
    "label_encoder_gender = LabelEncoder()\n",
    "label_encoder_ssc_board = LabelEncoder()\n",
    "label_encoder_hsc_board = LabelEncoder()\n",
    "label_encoder_hsc_subjects = LabelEncoder()\n",
    "label_encoder_undergrad_degree = LabelEncoder()\n",
    "label_encoder_work_experience = LabelEncoder()\n",
    "label_encoder_specialisation = LabelEncoder()\n",
    "label_encoder_status = LabelEncoder()\n",
    "\n",
    "df['gender'] = label_encoder_gender.fit_transform(df['gender'])\n",
    "df['ssc_board'] = label_encoder_ssc_board.fit_transform(df['ssc_board'])\n",
    "df['hsc_board'] = label_encoder_hsc_board.fit_transform(df['hsc_board'])\n",
    "df['hsc_subject'] = label_encoder_hsc_subjects.fit_transform(df['hsc_subject'])\n",
    "df['undergrad_degree'] = label_encoder_undergrad_degree.fit_transform(df['undergrad_degree'])\n",
    "df['work_experience'] = label_encoder_work_experience.fit_transform(df['work_experience'])\n",
    "df['specialisation'] = label_encoder_specialisation.fit_transform(df['specialisation'])\n",
    "df['status'] = label_encoder_status.fit_transform(df['status'])"
   ]
  },
  {
   "cell_type": "code",
   "execution_count": 4,
   "id": "cbdb0c86",
   "metadata": {},
   "outputs": [
    {
     "data": {
      "text/html": [
       "<div>\n",
       "<style scoped>\n",
       "    .dataframe tbody tr th:only-of-type {\n",
       "        vertical-align: middle;\n",
       "    }\n",
       "\n",
       "    .dataframe tbody tr th {\n",
       "        vertical-align: top;\n",
       "    }\n",
       "\n",
       "    .dataframe thead th {\n",
       "        text-align: right;\n",
       "    }\n",
       "</style>\n",
       "<table border=\"1\" class=\"dataframe\">\n",
       "  <thead>\n",
       "    <tr style=\"text-align: right;\">\n",
       "      <th></th>\n",
       "      <th>gender</th>\n",
       "      <th>ssc_percentage</th>\n",
       "      <th>ssc_board</th>\n",
       "      <th>hsc_percentage</th>\n",
       "      <th>hsc_board</th>\n",
       "      <th>hsc_subject</th>\n",
       "      <th>degree_percentage</th>\n",
       "      <th>undergrad_degree</th>\n",
       "      <th>work_experience</th>\n",
       "      <th>emp_test_percentage</th>\n",
       "      <th>specialisation</th>\n",
       "      <th>mba_percent</th>\n",
       "      <th>status</th>\n",
       "    </tr>\n",
       "  </thead>\n",
       "  <tbody>\n",
       "    <tr>\n",
       "      <th>0</th>\n",
       "      <td>1</td>\n",
       "      <td>67.00</td>\n",
       "      <td>1</td>\n",
       "      <td>91.00</td>\n",
       "      <td>1</td>\n",
       "      <td>1</td>\n",
       "      <td>58.00</td>\n",
       "      <td>2</td>\n",
       "      <td>0</td>\n",
       "      <td>55.0</td>\n",
       "      <td>1</td>\n",
       "      <td>58.80</td>\n",
       "      <td>1</td>\n",
       "    </tr>\n",
       "    <tr>\n",
       "      <th>1</th>\n",
       "      <td>1</td>\n",
       "      <td>79.33</td>\n",
       "      <td>0</td>\n",
       "      <td>78.33</td>\n",
       "      <td>1</td>\n",
       "      <td>2</td>\n",
       "      <td>77.48</td>\n",
       "      <td>2</td>\n",
       "      <td>1</td>\n",
       "      <td>86.5</td>\n",
       "      <td>0</td>\n",
       "      <td>66.28</td>\n",
       "      <td>1</td>\n",
       "    </tr>\n",
       "    <tr>\n",
       "      <th>2</th>\n",
       "      <td>1</td>\n",
       "      <td>65.00</td>\n",
       "      <td>0</td>\n",
       "      <td>68.00</td>\n",
       "      <td>0</td>\n",
       "      <td>0</td>\n",
       "      <td>64.00</td>\n",
       "      <td>0</td>\n",
       "      <td>0</td>\n",
       "      <td>75.0</td>\n",
       "      <td>0</td>\n",
       "      <td>57.80</td>\n",
       "      <td>1</td>\n",
       "    </tr>\n",
       "    <tr>\n",
       "      <th>3</th>\n",
       "      <td>1</td>\n",
       "      <td>56.00</td>\n",
       "      <td>0</td>\n",
       "      <td>52.00</td>\n",
       "      <td>0</td>\n",
       "      <td>2</td>\n",
       "      <td>52.00</td>\n",
       "      <td>2</td>\n",
       "      <td>0</td>\n",
       "      <td>66.0</td>\n",
       "      <td>1</td>\n",
       "      <td>59.43</td>\n",
       "      <td>0</td>\n",
       "    </tr>\n",
       "    <tr>\n",
       "      <th>4</th>\n",
       "      <td>1</td>\n",
       "      <td>85.80</td>\n",
       "      <td>0</td>\n",
       "      <td>73.60</td>\n",
       "      <td>0</td>\n",
       "      <td>1</td>\n",
       "      <td>73.30</td>\n",
       "      <td>0</td>\n",
       "      <td>0</td>\n",
       "      <td>96.8</td>\n",
       "      <td>0</td>\n",
       "      <td>55.50</td>\n",
       "      <td>1</td>\n",
       "    </tr>\n",
       "  </tbody>\n",
       "</table>\n",
       "</div>"
      ],
      "text/plain": [
       "   gender  ssc_percentage  ssc_board  hsc_percentage  hsc_board  hsc_subject  \\\n",
       "0       1           67.00          1           91.00          1            1   \n",
       "1       1           79.33          0           78.33          1            2   \n",
       "2       1           65.00          0           68.00          0            0   \n",
       "3       1           56.00          0           52.00          0            2   \n",
       "4       1           85.80          0           73.60          0            1   \n",
       "\n",
       "   degree_percentage  undergrad_degree  work_experience  emp_test_percentage  \\\n",
       "0              58.00                 2                0                 55.0   \n",
       "1              77.48                 2                1                 86.5   \n",
       "2              64.00                 0                0                 75.0   \n",
       "3              52.00                 2                0                 66.0   \n",
       "4              73.30                 0                0                 96.8   \n",
       "\n",
       "   specialisation  mba_percent  status  \n",
       "0               1        58.80       1  \n",
       "1               0        66.28       1  \n",
       "2               0        57.80       1  \n",
       "3               1        59.43       0  \n",
       "4               0        55.50       1  "
      ]
     },
     "execution_count": 4,
     "metadata": {},
     "output_type": "execute_result"
    }
   ],
   "source": [
    "df.head()"
   ]
  },
  {
   "cell_type": "markdown",
   "id": "d54f3394",
   "metadata": {},
   "source": [
    "#### 2. Class Balancing..\n",
    "As we have many values of a class and few values of others, we balance them using OverSampling."
   ]
  },
  {
   "cell_type": "code",
   "execution_count": 6,
   "id": "709a24dd",
   "metadata": {},
   "outputs": [
    {
     "name": "stdout",
     "output_type": "stream",
     "text": [
      "[[ 1.   67.    1.   ... 55.    1.   58.8 ]\n",
      " [ 1.   79.33  0.   ... 86.5   0.   66.28]\n",
      " [ 1.   65.    0.   ... 75.    0.   57.8 ]\n",
      " ...\n",
      " [ 1.   67.    1.   ... 59.    0.   69.72]\n",
      " [ 0.   74.    1.   ... 70.    1.   60.23]\n",
      " [ 1.   62.    0.   ... 89.    1.   60.22]]\n",
      "0      1\n",
      "1      1\n",
      "2      1\n",
      "3      0\n",
      "4      1\n",
      "      ..\n",
      "207    1\n",
      "208    1\n",
      "209    1\n",
      "210    1\n",
      "211    0\n",
      "Name: status, Length: 212, dtype: int32\n"
     ]
    }
   ],
   "source": [
    "X = df.drop('status', axis = 1)\n",
    "X = X.values\n",
    "y = df['status']\n",
    "\n",
    "print(X)\n",
    "print(y)"
   ]
  },
  {
   "cell_type": "code",
   "execution_count": 7,
   "id": "de10df59",
   "metadata": {},
   "outputs": [
    {
     "data": {
      "image/png": "[encoded data removed]",
      "text/plain": [
       "<Figure size 640x480 with 1 Axes>"
      ]
     },
     "metadata": {},
     "output_type": "display_data"
    }
   ],
   "source": [
    "ax = sns.countplot(x=y)"
   ]
  },
  {
   "cell_type": "code",
   "execution_count": 8,
   "id": "794e5aed",
   "metadata": {},
   "outputs": [
    {
     "data": {
      "image/png": "[encoded data removed]",
      "text/plain": [
       "<Figure size 640x480 with 1 Axes>"
      ]
     },
     "metadata": {},
     "output_type": "display_data"
    }
   ],
   "source": [
    "from imblearn.over_sampling import RandomOverSampler\n",
    "ros = RandomOverSampler(random_state=0)\n",
    "X, y = ros.fit_resample(X, y)\n",
    "ax = sns.countplot(x=y)"
   ]
  },
  {
   "cell_type": "markdown",
   "id": "8e7ffb4e",
   "metadata": {},
   "source": [
    "#### 3. Splitting the dataset for tarining and testing\n",
    "Here we are splitting the dataset in the ratio of 75% train set and 25% test set."
   ]
  },
  {
   "cell_type": "code",
   "execution_count": 9,
   "id": "a9e222fb",
   "metadata": {},
   "outputs": [],
   "source": [
    "from sklearn.model_selection import train_test_split\n",
    "X_train,X_test, y_train, y_test = train_test_split(X, y, test_size = 0.25, random_state = 0)"
   ]
  },
  {
   "cell_type": "markdown",
   "id": "2e630713",
   "metadata": {},
   "source": [
    "### 4. Applying Model \n",
    "## 1. Naive Bayes..\n",
    "Running a gaussian model to test our normal data"
   ]
  },
  {
   "cell_type": "code",
   "execution_count": 37,
   "id": "6e15cff1",
   "metadata": {},
   "outputs": [
    {
     "name": "stdout",
     "output_type": "stream",
     "text": [
      "Acuuray:  75.34246575342466\n",
      "Precision: 71.7948717948718\n",
      "Recall: 80.0\n",
      "F1-score: 75.67567567567569\n"
     ]
    }
   ],
   "source": [
    "from sklearn.naive_bayes import MultinomialNB\n",
    "from sklearn.metrics import precision_score, recall_score, f1_score, confusion_matrix, ConfusionMatrixDisplay\n",
    "NB = MultinomialNB()\n",
    "NB.fit(X_train, y_train)\n",
    "nb_Accuracy = NB.score(X_test, y_test)\n",
    "nb_pred = NB.predict(X_test)\n",
    "\n",
    "# Calculate precision, recall, and F1 score\n",
    "nb_precision = precision_score(y_test, nb_pred, pos_label=1)\n",
    "nb_recall = recall_score(y_test, nb_pred, pos_label=1)\n",
    "nb_f1 = f1_score(y_test, nb_pred, pos_label=1)\n",
    "\n",
    "print(\"Acuuray: \",nb_Accuracy*100)\n",
    "print('Precision:', nb_precision*100)\n",
    "print('Recall:', nb_recall*100)\n",
    "print('F1-score:', nb_f1*100)"
   ]
  },
  {
   "cell_type": "markdown",
   "id": "70be2ce8",
   "metadata": {},
   "source": [
    "### Confusion Matrix of Naive Bayes Model"
   ]
  },
  {
   "cell_type": "code",
   "execution_count": 38,
   "id": "5048de95",
   "metadata": {
    "scrolled": true
   },
   "outputs": [
    {
     "data": {
      "text/plain": [
       "<sklearn.metrics._plot.confusion_matrix.ConfusionMatrixDisplay at 0x1c67b837820>"
      ]
     },
     "execution_count": 38,
     "metadata": {},
     "output_type": "execute_result"
    },
    {
     "data": {
      "image/png": "[encoded data removed]",
      "text/plain": [
       "<Figure size 640x480 with 2 Axes>"
      ]
     },
     "metadata": {},
     "output_type": "display_data"
    }
   ],
   "source": [
    "nb_confusion_matrix = confusion_matrix(y_test, nb_pred)\n",
    "nb_cm_display = ConfusionMatrixDisplay(confusion_matrix = nb_confusion_matrix, display_labels = [True, False])\n",
    "nb_cm_display.plot()"
   ]
  },
  {
   "cell_type": "markdown",
   "id": "5b177cb9",
   "metadata": {},
   "source": [
    "### Classification Report of Naive Bayes Model"
   ]
  },
  {
   "cell_type": "code",
   "execution_count": 41,
   "id": "1eb3b036",
   "metadata": {},
   "outputs": [
    {
     "name": "stdout",
     "output_type": "stream",
     "text": [
      "              precision    recall  f1-score   support\n",
      "\n",
      "        True       0.79      0.71      0.75        38\n",
      "       False       0.72      0.80      0.76        35\n",
      "\n",
      "    accuracy                           0.75        73\n",
      "   macro avg       0.76      0.76      0.75        73\n",
      "weighted avg       0.76      0.75      0.75        73\n",
      "\n"
     ]
    }
   ],
   "source": [
    "from sklearn.metrics import classification_report\n",
    "print(classification_report(y_test, nb_pred, target_names=['True', 'False']))"
   ]
  },
  {
   "cell_type": "markdown",
   "id": "61c2ebb6",
   "metadata": {},
   "source": [
    "## 2. Logistic Regression.."
   ]
  },
  {
   "cell_type": "code",
   "execution_count": 23,
   "id": "4414dc2b",
   "metadata": {},
   "outputs": [
    {
     "name": "stdout",
     "output_type": "stream",
     "text": [
      "Accuracy: 83.56164383561644\n",
      "Precision: 79.48717948717949\n",
      "Recall: 88.57142857142857\n",
      "F1-score: 83.78378378378379\n"
     ]
    },
    {
     "name": "stderr",
     "output_type": "stream",
     "text": [
      "C:\\Users\\ASCC\\anaconda3\\lib\\site-packages\\sklearn\\linear_model\\_logistic.py:458: ConvergenceWarning: lbfgs failed to converge (status=1):\n",
      "STOP: TOTAL NO. of ITERATIONS REACHED LIMIT.\n",
      "\n",
      "Increase the number of iterations (max_iter) or scale the data as shown in:\n",
      "    https://scikit-learn.org/stable/modules/preprocessing.html\n",
      "Please also refer to the documentation for alternative solver options:\n",
      "    https://scikit-learn.org/stable/modules/linear_model.html#logistic-regression\n",
      "  n_iter_i = _check_optimize_result(\n"
     ]
    }
   ],
   "source": [
    "from sklearn.linear_model import LogisticRegression\n",
    "from sklearn.metrics import precision_score, recall_score, f1_score\n",
    "\n",
    "logreg = LogisticRegression()\n",
    "logreg.fit(X_train, y_train)\n",
    "lg_Accuracy = logreg.score(X_test, y_test)\n",
    "lg_pred = logreg.predict(X_test)\n",
    "\n",
    "\n",
    "# Calculate precision, recall, and F1 score\n",
    "lg_precision = precision_score(y_test, lg_pred, pos_label=1)\n",
    "lg_recall = recall_score(y_test, lg_pred, pos_label=1)\n",
    "lg_f1 = f1_score(y_test, lg_pred, pos_label=1)\n",
    "\n",
    "print(\"Accuracy:\",lg_Accuracy*100)\n",
    "print('Precision:', lg_precision*100)\n",
    "print('Recall:', lg_recall*100)\n",
    "print('F1-score:', lg_f1*100)"
   ]
  },
  {
   "cell_type": "markdown",
   "id": "81025a2e",
   "metadata": {},
   "source": [
    "### Confusion Matrix of Linea Regression Model"
   ]
  },
  {
   "cell_type": "code",
   "execution_count": 33,
   "id": "5f3295ca",
   "metadata": {},
   "outputs": [
    {
     "data": {
      "text/plain": [
       "<sklearn.metrics._plot.confusion_matrix.ConfusionMatrixDisplay at 0x1c67b336670>"
      ]
     },
     "execution_count": 33,
     "metadata": {},
     "output_type": "execute_result"
    },
    {
     "data": {
      "image/png": "[encoded data removed]",
      "text/plain": [
       "<Figure size 640x480 with 2 Axes>"
      ]
     },
     "metadata": {},
     "output_type": "display_data"
    }
   ],
   "source": [
    "lg_confusion_matrix = confusion_matrix(y_test, lg_pred)\n",
    "lg_cm_display = ConfusionMatrixDisplay(confusion_matrix = lg_confusion_matrix, display_labels = [True, False])\n",
    "lg_cm_display.plot()"
   ]
  },
  {
   "cell_type": "markdown",
   "id": "2f0d13d0",
   "metadata": {},
   "source": [
    "### Classification Report of Linear Regression Model"
   ]
  },
  {
   "cell_type": "code",
   "execution_count": 40,
   "id": "061a2a17",
   "metadata": {},
   "outputs": [
    {
     "name": "stdout",
     "output_type": "stream",
     "text": [
      "              precision    recall  f1-score   support\n",
      "\n",
      "        True       0.88      0.79      0.83        38\n",
      "       False       0.79      0.89      0.84        35\n",
      "\n",
      "    accuracy                           0.84        73\n",
      "   macro avg       0.84      0.84      0.84        73\n",
      "weighted avg       0.84      0.84      0.84        73\n",
      "\n"
     ]
    }
   ],
   "source": [
    "print(classification_report(y_test, lg_pred, target_names=['True', 'False']))"
   ]
  },
  {
   "cell_type": "markdown",
   "id": "0587a749",
   "metadata": {},
   "source": [
    "## 3. XGBoost"
   ]
  },
  {
   "cell_type": "code",
   "execution_count": 28,
   "id": "5f2b4708",
   "metadata": {},
   "outputs": [
    {
     "name": "stdout",
     "output_type": "stream",
     "text": [
      "Accuracy: 93.15068493150685\n",
      "Precision: 96.875\n",
      "Recall: 88.57142857142857\n",
      "F1-score: 92.53731343283582\n"
     ]
    }
   ],
   "source": [
    "import xgboost\n",
    "xgb = xgboost.XGBClassifier()\n",
    "y_train = y_train.astype(int)\n",
    "y_test = y_test.astype(int)\n",
    "# Fit the model using the training data\n",
    "xgb.fit(X_train, y_train)\n",
    "xg_Accuracy = xgb.score(X_test, y_test)\n",
    "xgb_pred = xgb.predict(X_test)\n",
    "\n",
    "# Calculate precision, recall, and F1 score\n",
    "xg_precision = precision_score(y_test, xgb_pred )\n",
    "xg_recall = recall_score(y_test, xgb_pred )\n",
    "xg_f1 = f1_score(y_test, xgb_pred )\n",
    "\n",
    "print('Accuracy:', xg_Accuracy*100)\n",
    "print('Precision:', xg_precision*100)\n",
    "print('Recall:', xg_recall*100)\n",
    "print('F1-score:', xg_f1*100)"
   ]
  },
  {
   "cell_type": "markdown",
   "id": "d027d251",
   "metadata": {},
   "source": [
    "### Confusion Matrix of XGBoost"
   ]
  },
  {
   "cell_type": "code",
   "execution_count": 32,
   "id": "c3d15f4d",
   "metadata": {},
   "outputs": [
    {
     "data": {
      "text/plain": [
       "<sklearn.metrics._plot.confusion_matrix.ConfusionMatrixDisplay at 0x1c67a2793d0>"
      ]
     },
     "execution_count": 32,
     "metadata": {},
     "output_type": "execute_result"
    },
    {
     "data": {
      "image/png": "[encoded data removed]",
      "text/plain": [
       "<Figure size 640x480 with 2 Axes>"
      ]
     },
     "metadata": {},
     "output_type": "display_data"
    }
   ],
   "source": [
    "xgb_confusion_matrix = confusion_matrix(y_test, xgb_pred)\n",
    "xgb_cm_display = ConfusionMatrixDisplay(confusion_matrix = xgb_confusion_matrix, display_labels = [True, False])\n",
    "xgb_cm_display.plot()"
   ]
  },
  {
   "cell_type": "markdown",
   "id": "10a7c82b",
   "metadata": {},
   "source": [
    "### Classification Report Of XGBoost"
   ]
  },
  {
   "cell_type": "code",
   "execution_count": 39,
   "id": "74fddeec",
   "metadata": {
    "scrolled": true
   },
   "outputs": [
    {
     "name": "stdout",
     "output_type": "stream",
     "text": [
      "              precision    recall  f1-score   support\n",
      "\n",
      "        True       0.90      0.97      0.94        38\n",
      "       False       0.97      0.89      0.93        35\n",
      "\n",
      "    accuracy                           0.93        73\n",
      "   macro avg       0.94      0.93      0.93        73\n",
      "weighted avg       0.93      0.93      0.93        73\n",
      "\n"
     ]
    }
   ],
   "source": [
    "print(classification_report(y_test, xgb_pred, target_names=['True', 'False']))"
   ]
  },
  {
   "cell_type": "markdown",
   "id": "6977e392",
   "metadata": {},
   "source": [
    "## Results"
   ]
  },
  {
   "cell_type": "code",
   "execution_count": 31,
   "id": "09708655",
   "metadata": {},
   "outputs": [
    {
     "data": {
      "text/plain": [
       "<matplotlib.legend.Legend at 0x1c676dfd280>"
      ]
     },
     "execution_count": 31,
     "metadata": {},
     "output_type": "execute_result"
    },
    {
     "data": {
      "image/png": "[encoded data removed]",
      "text/plain": [
       "<Figure size 640x480 with 1 Axes>"
      ]
     },
     "metadata": {},
     "output_type": "display_data"
    }
   ],
   "source": [
    "import matplotlib.pyplot as plt\n",
    "import pandas as pd\n",
    "  \n",
    "df = pd.DataFrame([['Accuracy',xg_Accuracy, nb_Accuracy, lg_Accuracy], \n",
    "                   ['Precision',xg_precision, nb_precision, lg_precision], \n",
    "                   ['Recall', xg_recall, nb_recall, lg_recall],\n",
    "                   ['F1-Score', xg_f1, nb_f1, lg_f1]],\n",
    "                  columns=['Models', \"XGBoost\",'Naive Bayes','Logistic Regression'])\n",
    "  \n",
    "df.plot(x='Models',\n",
    "        kind='bar',\n",
    "        stacked=False,\n",
    "        title='Performance Comparison of Machine Learning Models',\n",
    "         xlabel = 'Performance Metrics',\n",
    "        ylabel = 'Performance Metric Value')\n",
    "plt.legend(loc='center left', bbox_to_anchor=(1, 0.5))"
   ]
  },
  {
   "cell_type": "code",
   "execution_count": null,
   "id": "79af8fa1",
   "metadata": {},
   "outputs": [],
   "source": []
  }
 ],
 "metadata": {
  "kernelspec": {
   "display_name": "Python 3 (ipykernel)",
   "language": "python",
   "name": "python3"
  },
  "language_info": {
   "codemirror_mode": {
    "name": "ipython",
    "version": 3
   },
   "file_extension": ".py",
   "mimetype": "text/x-python",
   "name": "python",
   "nbconvert_exporter": "python",
   "pygments_lexer": "ipython3",
   "version": "3.9.16"
  }
 },
 "nbformat": 4,
 "nbformat_minor": 5
}
